{
  "nbformat": 4,
  "nbformat_minor": 0,
  "metadata": {
    "colab": {
      "provenance": []
    },
    "kernelspec": {
      "name": "python3",
      "display_name": "Python 3"
    },
    "language_info": {
      "name": "python"
    }
  },
  "cells": [
    {
      "cell_type": "code",
      "execution_count": 1,
      "metadata": {
        "colab": {
          "base_uri": "https://localhost:8080/"
        },
        "id": "O87q14f4Jeq0",
        "outputId": "98eff543-64b8-437c-9f93-c888122b212e"
      },
      "outputs": [
        {
          "output_type": "stream",
          "name": "stdout",
          "text": [
            "\u001b[?25l   \u001b[90m━━━━━━━━━━━━━━━━━━━━━━━━━━━━━━━━━━━━━━━━\u001b[0m \u001b[32m0.0/50.9 kB\u001b[0m \u001b[31m?\u001b[0m eta \u001b[36m-:--:--\u001b[0m\r\u001b[2K   \u001b[90m━━━━━━━━━━━━━━━━━━━━━━━━━━━━━━━━━━━━━━━━\u001b[0m \u001b[32m50.9/50.9 kB\u001b[0m \u001b[31m3.5 MB/s\u001b[0m eta \u001b[36m0:00:00\u001b[0m\n",
            "\u001b[?25h\u001b[?25l   \u001b[90m━━━━━━━━━━━━━━━━━━━━━━━━━━━━━━━━━━━━━━━━\u001b[0m \u001b[32m0.0/411.6 kB\u001b[0m \u001b[31m?\u001b[0m eta \u001b[36m-:--:--\u001b[0m\r\u001b[2K   \u001b[91m━━━━━━━━━━━━━━━━━━━━━━━━━━━━━━━━━━━━━━━\u001b[0m\u001b[91m╸\u001b[0m \u001b[32m409.6/411.6 kB\u001b[0m \u001b[31m36.5 MB/s\u001b[0m eta \u001b[36m0:00:01\u001b[0m\r\u001b[2K   \u001b[90m━━━━━━━━━━━━━━━━━━━━━━━━━━━━━━━━━━━━━━━━\u001b[0m \u001b[32m411.6/411.6 kB\u001b[0m \u001b[31m8.5 MB/s\u001b[0m eta \u001b[36m0:00:00\u001b[0m\n",
            "\u001b[2K   \u001b[90m━━━━━━━━━━━━━━━━━━━━━━━━━━━━━━━━━━━━━━━━\u001b[0m \u001b[32m454.3/454.3 kB\u001b[0m \u001b[31m7.3 MB/s\u001b[0m eta \u001b[36m0:00:00\u001b[0m\n",
            "\u001b[2K   \u001b[90m━━━━━━━━━━━━━━━━━━━━━━━━━━━━━━━━━━━━━━━━\u001b[0m \u001b[32m1.2/1.2 MB\u001b[0m \u001b[31m18.3 MB/s\u001b[0m eta \u001b[36m0:00:00\u001b[0m\n",
            "\u001b[2K   \u001b[90m━━━━━━━━━━━━━━━━━━━━━━━━━━━━━━━━━━━━━━━━\u001b[0m \u001b[32m2.5/2.5 MB\u001b[0m \u001b[31m37.0 MB/s\u001b[0m eta \u001b[36m0:00:00\u001b[0m\n",
            "\u001b[2K   \u001b[90m━━━━━━━━━━━━━━━━━━━━━━━━━━━━━━━━━━━━━━━━\u001b[0m \u001b[32m1.0/1.0 MB\u001b[0m \u001b[31m47.7 MB/s\u001b[0m eta \u001b[36m0:00:00\u001b[0m\n",
            "\u001b[2K   \u001b[90m━━━━━━━━━━━━━━━━━━━━━━━━━━━━━━━━━━━━━━━━\u001b[0m \u001b[32m49.3/49.3 kB\u001b[0m \u001b[31m3.2 MB/s\u001b[0m eta \u001b[36m0:00:00\u001b[0m\n",
            "\u001b[?25h"
          ]
        }
      ],
      "source": [
        "!pip install -qU langchain-openai\n",
        "!pip install -qU langchain-community"
      ]
    },
    {
      "cell_type": "markdown",
      "source": [
        "Additionally, the install the newspaper3k package"
      ],
      "metadata": {
        "id": "lT96nnQVNYeD"
      }
    },
    {
      "cell_type": "code",
      "source": [
        "!pip install -q newspaper3k python-dotenv"
      ],
      "metadata": {
        "id": "PttbeLuhNflV"
      },
      "execution_count": 7,
      "outputs": []
    },
    {
      "cell_type": "code",
      "source": [
        "!pip install -q lxml_html_clean"
      ],
      "metadata": {
        "id": "eiZM7zIhP8DW"
      },
      "execution_count": 8,
      "outputs": []
    },
    {
      "cell_type": "markdown",
      "source": [
        "In your Python script or notebook, set the API key as an environment variable with `OPENAI_API_KEY` name. In order to set it from a `.env` file, you can use the `load_dotenv` function."
      ],
      "metadata": {
        "id": "rWqaibeeNwOI"
      }
    },
    {
      "cell_type": "code",
      "source": [
        "import os\n",
        "import json\n",
        "# for local usage\n",
        "#from dotenv import load_dotenv\n",
        "#load_dotenv()\n",
        "\n",
        "# for colab\n",
        "from google.colab import userdata\n",
        "os.environ['OPENAI_API_KEY'] = userdata.get('OPENAI_API_KEY')"
      ],
      "metadata": {
        "id": "HKNfyFHYN1PT"
      },
      "execution_count": 9,
      "outputs": []
    },
    {
      "cell_type": "markdown",
      "source": [
        "Let us use the URL of a news article to generate a summary. The following code fetches articles from a list of URLs using the `requests` library with a custom User-Agent header. It then extracts the title and text of each article using the `newspaper` library."
      ],
      "metadata": {
        "id": "K9FSex31OaEp"
      }
    },
    {
      "cell_type": "code",
      "source": [
        "import requests\n",
        "from newspaper import Article\n",
        "\n",
        "headers = {\n",
        "    'User-Agent': 'Mozilla/5.0 (Windows NT 10.0; Win64; x64) AppleWebKit/537.36 (KHTML, like Gecko) Chrome/89.0.4389.82 Safari/537.36'\n",
        "}\n",
        "\n",
        "article_url = \"https://apnews.com/article/jimmy-carter-dies-18c198c20352c835bca3eec276020dd7\"\n",
        "\n",
        "session = requests.Session()\n",
        "\n",
        "try:\n",
        "    response = session.get(article_url, headers=headers, timeout=10)\n",
        "\n",
        "    if response.status_code == 200:\n",
        "        article = Article(article_url)\n",
        "        article.download()\n",
        "        article.parse()\n",
        "\n",
        "        print(f\"Title: {article.title}\")\n",
        "        print(f\"Text: {article.text}\")\n",
        "\n",
        "    else:\n",
        "        print(f\"Failed to fetch article at {article_url}\")\n",
        "except Exception as e:\n",
        "    print(f\"Error occurred while fetching article at {article_url}: {e}\")"
      ],
      "metadata": {
        "colab": {
          "base_uri": "https://localhost:8080/"
        },
        "id": "m_i0mbNBOZXK",
        "outputId": "361bc9c5-a22b-440f-8c3a-e9e4330a1dc8"
      },
      "execution_count": 12,
      "outputs": [
        {
          "output_type": "stream",
          "name": "stdout",
          "text": [
            "Title: Jimmy Carter, 39th US president, has died at 100\n",
            "Text: ▶ Follow live updates as the world reacts to the death of Former President Jimmy Carter\n",
            "\n",
            "ATLANTA (AP) — Jimmy Carter, the peanut farmer who won the presidency in the wake of the Watergate scandal and Vietnam War, endured humbling defeat after one tumultuous term and then redefined life after the White House as a global humanitarian, has died. He was 100 years old.\n",
            "\n",
            "The longest-lived American president died on Sunday, roughly 22 months after entering hospice care, at his home in the small town of Plains, Georgia, where he and his wife, Rosalynn, who died at 96 in November 2023, spent most of their lives, The Carter Center said.\n",
            "\n",
            "“Our founder, former U.S. President Jimmy Carter, passed away this afternoon in Plains, Georgia,” the center said on the social media platform X. It added in a statement that he died peacefully, surrounded by his family.\n",
            "\n",
            "As reaction poured in from around the world, President Joe Biden mourned Carter’s death, saying the world lost an “extraordinary leader, statesman and humanitarian” and he lost a dear friend. Biden cited Carter’s work to eradicate disease, forge peace, advance civil and human rights, promote free and fair elections and house the homeless as an example for others.\n",
            "\n",
            "AP AUDIO: Jimmy Carter, the 39th US president, has died at 100 AP correspondent Sagar Meghani reports that former President Jimmy Carter has died at the age of 100. According to his family, the former president was at his home in Plains, Georgia.\n",
            "\n",
            "“To all of the young people in this nation and for anyone in search of what it means to live a life of purpose and meaning – the good life – study Jimmy Carter, a man of principle, faith, and humility,” Biden said in a statement.\n",
            "\n",
            "Biden spoke later Sunday evening about Carter, calling it a “sad day” but one that “brings back an incredible amount of good memories.”\n",
            "\n",
            "“I’ve been hanging out with Jimmy Carter for over 50 years,” Biden said in his remarks.\n",
            "\n",
            "He recalled the former president being a comfort to him and his wife Jill when their son Beau died in 2015 of cancer. The president remarked how cancer was a common bond between their families, with Carter himself having cancer later in his life.\n",
            "\n",
            "“Jimmy knew the ravages of the disease too well,” said Biden, who scheduled a state funeral in Washington, D.C., for Carter on Jan. 9.\n",
            "\n",
            "Biden also declared Jan. 9 as a National Day of Mourning across the nation and ordered U.S. flags to fly at half-staff for 30 days from Sunday.\n",
            "\n",
            "Businessman, Navy officer, evangelist, politician, negotiator, author, woodworker, citizen of the world — Carter forged a path that still challenges political assumptions and stands out among the 45 men who reached the nation’s highest office. The 39th president leveraged his ambition with a keen intellect, deep religious faith and prodigious work ethic, conducting diplomatic missions into his 80s and building houses for the poor well into his 90s.\n",
            "\n",
            "“My faith demands — this is not optional — my faith demands that I do whatever I can, wherever I am, whenever I can, for as long as I can, with whatever I have to try to make a difference,” Carter once said.\n",
            "\n",
            "Jimmy Carter, right, during a campaign visit in Williamsport, Pa., April 24, 1976. (AP Photo, File) Jimmy Carter, right, during a campaign visit in Williamsport, Pa., April 24, 1976. (AP Photo, File) Share Share Copy Link copied\n",
            "\n",
            "Email\n",
            "\n",
            "Facebook\n",
            "\n",
            "X\n",
            "\n",
            "Reddit\n",
            "\n",
            "LinkedIn\n",
            "\n",
            "Pinterest\n",
            "\n",
            "Flipboard\n",
            "\n",
            "Print Read More\n",
            "\n",
            "Former President Jimmy Carter, a Nobel Peace Prize winner and the longest-living chief executive in U.S. history, has died. He was 100.\n",
            "\n",
            "The 39th U.S. president died on Sunday, more than a year after entering hospice care. Live updates and reaction here\n",
            "\n",
            "Businessman, Navy officer, evangelist, politician, negotiator, author, woodworker. Carter forged a path that still challenges political assumptions. These are the significant milestones in his life and career.\n",
            "\n",
            "A look at Carter’s life, in photos\n",
            "\n",
            "A president from Plains\n",
            "\n",
            "A moderate Democrat, Carter entered the 1976 presidential race as a little-known Georgia governor with a broad smile, outspoken Baptist mores and technocratic plans reflecting his education as an engineer. His no-frills campaign depended on public financing, and his promise not to deceive the American people resonated after Richard Nixon’s disgrace and U.S. defeat in southeast Asia.\n",
            "\n",
            "“If I ever lie to you, if I ever make a misleading statement, don’t vote for me. I would not deserve to be your president,” Carter repeated before narrowly beating Republican incumbent Gerald Ford, who had lost popularity pardoning Nixon.\n",
            "\n",
            "Carter governed amid Cold War pressures, turbulent oil markets and social upheaval over racism, women’s rights and America’s global role. His most acclaimed achievement in office was a Mideast peace deal that he brokered by keeping Egyptian President Anwar Sadat and Israeli Prime Minister Menachem Begin at the bargaining table for 13 days in 1978. That Camp David experience inspired the post-presidential center where Carter would establish so much of his legacy.\n",
            "\n",
            "Yet Carter’s electoral coalition splintered under double-digit inflation, gasoline lines and the 444-day hostage crisis in Iran. His bleakest hour came when eight Americans died in a failed hostage rescue in April 1980, helping to ensure his landslide defeat to Republican Ronald Reagan.\n",
            "\n",
            "Carter acknowledged in his 2020 “White House Diary” that he could be “micromanaging” and “excessively autocratic,” complicating dealings with Congress and the federal bureaucracy. He also turned a cold shoulder to Washington’s news media and lobbyists, not fully appreciating their influence on his political fortunes.\n",
            "\n",
            "“It didn’t take us long to realize that the underestimation existed, but by that time we were not able to repair the mistake,” Carter told historians in 1982, suggesting that he had “an inherent incompatibility” with Washington insiders.\n",
            "\n",
            "Carter insisted his overall approach was sound and that he achieved his primary objectives — to “protect our nation’s security and interests peacefully” and “enhance human rights here and abroad” — even if he fell spectacularly short of a second term.\n",
            "\n",
            "On Sunday, Jimmy Carter died at the age of 100. He leaves behind a legacy that extended long after his presidency. Outside the White House on Monday, as flags flew at half-staff, visitors reflected on his life and career.\n",
            "\n",
            "And then, the world\n",
            "\n",
            "Ignominious defeat, though, allowed for renewal. The Carters founded The Carter Center in 1982 as a first-of-its-kind base of operations, asserting themselves as international peacemakers and champions of democracy, public health and human rights.\n",
            "\n",
            "“I was not interested in just building a museum or storing my White House records and memorabilia,” Carter wrote in a memoir published after his 90th birthday. “I wanted a place where we could work.”\n",
            "\n",
            "Jimmy Carter, flanked by Secretary of State Cyrus Vance, right, and foreign policy adviser Zbigniew Brzezinski, left, in Washington, Feb. 14, 1979. (AP Photo/Bob Daugherty, File) Jimmy Carter, flanked by Secretary of State Cyrus Vance, right, and foreign policy adviser Zbigniew Brzezinski, left, in Washington, Feb. 14, 1979. (AP Photo/Bob Daugherty, File) Share Share Copy Link copied\n",
            "\n",
            "Email\n",
            "\n",
            "Facebook\n",
            "\n",
            "X\n",
            "\n",
            "Reddit\n",
            "\n",
            "LinkedIn\n",
            "\n",
            "Pinterest\n",
            "\n",
            "Flipboard\n",
            "\n",
            "Print Read More\n",
            "\n",
            "That work included easing nuclear tensions in North and South Korea, helping to avert a U.S. invasion of Haiti and negotiating cease-fires in Bosnia and Sudan. By 2022, The Carter Center had declared at least 113 elections in Latin America, Asia and Africa to be free or fraudulent. Recently, the center began monitoring U.S. elections as well.\n",
            "\n",
            "Carter’s stubborn self-assuredness and even self-righteousness proved effective once he was unencumbered by the Washington order, sometimes to the point of frustrating his successors.\n",
            "\n",
            "He went “where others are not treading,” he said, to places like Ethiopia, Liberia and North Korea, where he secured the release of an American who had wandered across the border in 2010.\n",
            "\n",
            "“I can say what I like. I can meet whom I want. I can take on projects that please me and reject the ones that don’t,” Carter said.\n",
            "\n",
            "He announced an arms-reduction-for-aid deal with North Korea without clearing the details with Bill Clinton’s White House. He openly criticized President George W. Bush for the 2003 invasion of Iraq. He also criticized America’s approach to Israel with his 2006 book “Palestine: Peace Not Apartheid.” And he repeatedly countered U.S. administrations by insisting North Korea should be included in international affairs, a position that most aligned Carter with Republican President Donald Trump.\n",
            "\n",
            "Among the center’s many public health initiatives, Carter vowed to eradicate the guinea worm parasite during his lifetime, and nearly achieved it: Cases dropped from millions in the 1980s to nearly a handful. With hardhats and hammers, the Carters also built homes with Habitat for Humanity.\n",
            "\n",
            "The Nobel committee’s 2002 Peace Prize cites his “untiring effort to find peaceful solutions to international conflicts, to advance democracy and human rights, and to promote economic and social development.” Carter should have won it alongside Sadat and Begin in 1978, the chairman added.\n",
            "\n",
            "Carter accepted the recognition saying there was more work to be done.\n",
            "\n",
            "“The world is now, in many ways, a more dangerous place,” he said. “The greater ease of travel and communication has not been matched by equal understanding and mutual respect.”\n",
            "\n",
            "‘An epic American life’\n",
            "\n",
            "Carter’s globetrotting took him to remote villages where he met little “Jimmy Carters,” so named by admiring parents. But he spent most of his days in the same one-story Plains house — expanded and guarded by Secret Service agents — where they lived before he became governor. He regularly taught Sunday School lessons at Maranatha Baptist Church until his mobility declined and the coronavirus pandemic raged. Those sessions drew visitors from around the world to the small sanctuary where Carter will receive his final send-off after a state funeral at Washington’s National Cathedral.\n",
            "\n",
            "The common assessment that he was a better ex-president than president rankled Carter and his allies. His prolific post-presidency gave him a brand above politics, particularly for Americans too young to witness him in office. But Carter also lived long enough to see biographers and historians reassess his White House years more generously.\n",
            "\n",
            "His record includes the deregulation of key industries, reduction of U.S. dependence on foreign oil, cautious management of the national debt and notable legislation on the environment, education and mental health. He focused on human rights in foreign policy, pressuring dictators to release thousands of political prisoners. He acknowledged America’s historical imperialism, pardoned Vietnam War draft evaders and relinquished control of the Panama Canal. He normalized relations with China.\n",
            "\n",
            "“I am not nominating Jimmy Carter for a place on Mount Rushmore,” Stuart Eizenstat, Carter’s domestic policy director, wrote in a 2018 book.\n",
            "\n",
            "“He was not a great president” but also not the “hapless and weak” caricature voters rejected in 1980, Eizenstat said. Rather, Carter was “good and productive” and “delivered results, many of which were realized only after he left office.”\n",
            "\n",
            "Madeleine Albright, a national security staffer for Carter and Clinton’s secretary of state, wrote in Eizenstat’s forward that Carter was “consequential and successful” and expressed hope that “perceptions will continue to evolve” about his presidency.\n",
            "\n",
            "“Our country was lucky to have him as our leader,” said Albright, who died in 2022.\n",
            "\n",
            "Jonathan Alter, who penned a comprehensive Carter biography published in 2020, said in an interview that Carter should be remembered for “an epic American life” spanning from a humble start in a home with no electricity or indoor plumbing through decades on the world stage across two centuries.\n",
            "\n",
            "“He will likely go down as one of the most misunderstood and underestimated figures in American history,” Alter told The Associated Press.\n",
            "\n",
            "Jimmy Carter and his wife, Rosalynn, in New York, July 15, 1976. (AP Photo, File) Jimmy Carter and his wife, Rosalynn, in New York, July 15, 1976. (AP Photo, File) Share Share Copy Link copied\n",
            "\n",
            "Email\n",
            "\n",
            "Facebook\n",
            "\n",
            "X\n",
            "\n",
            "Reddit\n",
            "\n",
            "LinkedIn\n",
            "\n",
            "Pinterest\n",
            "\n",
            "Flipboard\n",
            "\n",
            "Print Read More\n",
            "\n",
            "A small-town start\n",
            "\n",
            "James Earl Carter Jr. was born Oct. 1, 1924, in Plains and spent his early years in nearby Archery. His family was a minority in the mostly Black community, decades before the civil rights movement played out at the dawn of Carter’s political career.\n",
            "\n",
            "Carter, who campaigned as a moderate on race relations but governed more progressively, talked often of the influence of his Black caregivers and playmates but also noted his advantages: His land-owning father sat atop Archery’s tenant-farming system and owned a main street grocery. His mother, Lillian, would become a staple of his political campaigns.\n",
            "\n",
            "Seeking to broaden his world beyond Plains and its population of fewer than 1,000 — then and now — Carter won an appointment to the U.S. Naval Academy, graduating in 1946. That same year he married Rosalynn Smith, another Plains native, a decision he considered more important than any he made as head of state. She shared his desire to see the world, sacrificing college to support his Navy career.\n",
            "\n",
            "Carter climbed in rank to lieutenant, but then his father was diagnosed with cancer, so the submarine officer set aside his ambitions of admiralty and moved the family back to Plains. His decision angered Rosalynn, even as she dived into the peanut business alongside her husband.\n",
            "\n",
            "Carter again failed to talk with his wife before his first run for office — he later called it “inconceivable” not to have consulted her on such major life decisions — but this time, she was on board.\n",
            "\n",
            "“My wife is much more political,” Carter told the AP in 2021.\n",
            "\n",
            "He won a state Senate seat in 1962 but wasn’t long for the General Assembly and its back-slapping, deal-cutting ways. He ran for governor in 1966 — losing to arch-segregationist Lester Maddox — and then immediately focused on the next campaign.\n",
            "\n",
            "Carter had spoken out against church segregation as a Baptist deacon and opposed racist “Dixiecrats” as a state senator. Yet as a local school board leader in the 1950s he had not pushed to end school segregation even after the Supreme Court’s Brown v. Board of Education decision, despite his private support for integration. And in 1970, Carter ran for governor again as the more conservative Democrat against Carl Sanders, a wealthy businessman Carter mocked as “Cufflinks Carl.” Sanders never forgave him for anonymous, race-baiting flyers, which Carter disavowed.\n",
            "\n",
            "Ultimately, Carter won his races by attracting both Black voters and culturally conservative whites. Once in office, he was more direct.\n",
            "\n",
            "“I say to you quite frankly that the time for racial discrimination is over,” he declared in his 1971 inaugural address, setting a new standard for Southern governors that landed him on the cover of Time magazine.\n",
            "\n",
            "‘Jimmy Who?’\n",
            "\n",
            "His statehouse initiatives included environmental protection, boosting rural education and overhauling antiquated executive branch structures. He proclaimed Martin Luther King Jr. Day in the slain civil rights leader’s home state. And he decided, as he received presidential candidates in 1972, that they were no more talented than he was.\n",
            "\n",
            "In 1974, he ran Democrats’ national campaign arm. Then he declared his own candidacy for 1976. An Atlanta newspaper responded with the headline: “Jimmy Who?”\n",
            "\n",
            "The Carters and a “Peanut Brigade” of family members and Georgia supporters camped out in Iowa and New Hampshire, establishing both states as presidential proving grounds. His first Senate endorsement: a young first-termer from Delaware named Joe Biden.\n",
            "\n",
            "Yet it was Carter’s ability to navigate America’s complex racial and rural politics that cemented the nomination. He swept the Deep South that November, the last Democrat to do so, as many white Southerners shifted to Republicans in response to civil rights initiatives.\n",
            "\n",
            "A self-declared “born-again Christian,” Carter drew snickers by referring to Scripture in a Playboy magazine interview, saying he “had looked on many women with lust. I’ve committed adultery in my heart many times.” The remarks gave Ford a new foothold and television comedians pounced — including NBC’s new “Saturday Night Live” show. But voters weary of cynicism in politics found it endearing.\n",
            "\n",
            "Carter chose Minnesota Sen. Walter “Fritz” Mondale as his running mate on a “Grits and Fritz” ticket. In office, he elevated the vice presidency and the first lady’s office. Mondale’s governing partnership was a model for influential successors Al Gore, Dick Cheney and Biden. Rosalynn Carter was one of the most involved presidential spouses in history, welcomed into Cabinet meetings and huddles with lawmakers and top aides.\n",
            "\n",
            "The Carters presided with uncommon informality: He used his nickname “Jimmy” even when taking the oath of office, carried his own luggage and tried to silence the Marine Band’s “Hail to the Chief.” They bought their clothes off the rack. Carter wore a cardigan for a White House address, urging Americans to conserve energy by turning down their thermostats. Amy, the youngest of four children, attended District of Columbia public school.\n",
            "\n",
            "Washington’s social and media elite scorned their style. But the larger concern was that “he hated politics,” according to Eizenstat, leaving him nowhere to turn politically once economic turmoil and foreign policy challenges took their toll.\n",
            "\n",
            "Accomplishments, and ‘malaise’\n",
            "\n",
            "Carter partially deregulated the airline, railroad and trucking industries and established the departments of Education and Energy, and the Federal Emergency Management Agency. He designated millions of acres of Alaska as national parks or wildlife refuges. He appointed a then-record number of women and nonwhite people to federal posts. He never had a Supreme Court nomination, but he elevated civil rights attorney Ruth Bader Ginsburg to the nation’s second highest court, positioning her for a promotion in 1993. He appointed Paul Volker, the Federal Reserve chairman whose policies would help the economy boom in the 1980s — after Carter left office. He built on Nixon’s opening with China, and though he tolerated autocrats in Asia, pushed Latin America from dictatorships to democracy.\n",
            "\n",
            "But he couldn’t immediately tame inflation or the related energy crisis.\n",
            "\n",
            "And then came Iran.\n",
            "\n",
            "After he admitted the exiled Shah of Iran to the U.S. for medical treatment, the American Embassy in Tehran was overrun in 1979 by followers of the Ayatollah Ruhollah Khomeini. Negotiations to free the hostages broke down repeatedly ahead of the failed rescue attempt.\n",
            "\n",
            "The same year, Carter signed SALT II, the new strategic arms treaty with Leonid Brezhnev of the Soviet Union, only to pull it back, impose trade sanctions and order a U.S. boycott of the Moscow Olympics after the Soviets invaded Afghanistan.\n",
            "\n",
            "Hoping to instill optimism, he delivered what the media dubbed his “malaise” speech, although he didn’t use that word. He declared the nation was suffering “a crisis of confidence.” By then, many Americans had lost confidence in the president, not themselves.\n",
            "\n",
            "Former President Jimmy Carter and his wife, Rosalynn, June 10, 2015, in Atlanta. (AP Photo/John Bazemore, File) Former President Jimmy Carter and his wife, Rosalynn, June 10, 2015, in Atlanta. (AP Photo/John Bazemore, File) Share Share Copy Link copied\n",
            "\n",
            "Email\n",
            "\n",
            "Facebook\n",
            "\n",
            "X\n",
            "\n",
            "Reddit\n",
            "\n",
            "LinkedIn\n",
            "\n",
            "Pinterest\n",
            "\n",
            "Flipboard\n",
            "\n",
            "Print Read More\n",
            "\n",
            "Carter campaigned sparingly for reelection because of the hostage crisis, instead sending Rosalynn as Sen. Edward M. Kennedy challenged him for the Democratic nomination. Carter famously said he’d “kick his ass,” but was hobbled by Kennedy as Reagan rallied a broad coalition with “make America great again” appeals and asking voters whether they were “better off than you were four years ago.”\n",
            "\n",
            "Reagan further capitalized on Carter’s lecturing tone, eviscerating him in their lone fall debate with the quip: “There you go again.” Carter lost all but six states and Republicans rolled to a new Senate majority.\n",
            "\n",
            "Carter successfully negotiated the hostages’ freedom after the election, but in one final, bitter turn of events, Tehran waited until hours after Carter left office to let them walk free.\n",
            "\n",
            "‘A wonderful life’\n",
            "\n",
            "At 56, Carter returned to Georgia with “no idea what I would do with the rest of my life.”\n",
            "\n",
            "Four decades after launching The Carter Center, he still talked of unfinished business.\n",
            "\n",
            "“I thought when we got into politics we would have resolved everything,” Carter told the AP in 2021. “But it’s turned out to be much more long-lasting and insidious than I had thought it was. I think in general, the world itself is much more divided than in previous years.”\n",
            "\n",
            "Still, he affirmed what he said when he underwent treatment for a cancer diagnosis in his 10th decade of life.\n",
            "\n",
            "“I’m perfectly at ease with whatever comes,” he said in 2015. “I’ve had a wonderful life. I’ve had thousands of friends, I’ve had an exciting, adventurous and gratifying existence.”\n",
            "\n",
            "___\n",
            "\n",
            "Sanz is a former Associated Press reporter.\n"
          ]
        }
      ]
    },
    {
      "cell_type": "markdown",
      "source": [
        "The next code imports essential classes and functions from the LangChain and sets up a `ChatOpenAI` instance with a temperature of 0 for controlled response generation. Additionally, it imports chat-related message schema classes, which enable the smooth handling of chat-based tasks. The following code will start by setting the prompt and filling it with the article’s content."
      ],
      "metadata": {
        "id": "5LD4uIsqRiqy"
      }
    },
    {
      "cell_type": "code",
      "source": [
        "from langchain_core.messages import HumanMessage, SystemMessage\n",
        "\n",
        "# we get the article data from the scraping part\n",
        "article_title = article.title\n",
        "article_text = article.text\n",
        "\n",
        "# prepare template for prompt\n",
        "template = \"\"\"You are a very good assistant that summarizes online articles.\n",
        "\n",
        "Here's the article you want to summarize.\n",
        "\n",
        "==================\n",
        "Title: {article_title}\n",
        "\n",
        "{article_text}\n",
        "==================\n",
        "\n",
        "Write a summary of the previous article.\n",
        "\"\"\"\n",
        "\n",
        "prompt = template.format(article_title=article.title, article_text=article.text)\n",
        "\n",
        "messages = [HumanMessage(content=prompt)]"
      ],
      "metadata": {
        "id": "jbny8_s1Rp58"
      },
      "execution_count": 13,
      "outputs": []
    },
    {
      "cell_type": "markdown",
      "source": [
        "The `HumanMessage` is a structured data format representing user messages within the chat-based interaction framework. The ChatOpenAI class is utilized to interact with the AI model, while the HumanMessage schema provides a standardized representation of user messages. The template consists of placeholders for the article's title and content, which will be substituted with the actual `article_title` and `article_text`. This process simplifies and streamlines the creation of dynamic prompts by allowing you to define a template with placeholders and then replace them with actual data when needed."
      ],
      "metadata": {
        "id": "MwCPDoqxSrnG"
      }
    },
    {
      "cell_type": "code",
      "source": [
        "from langchain_openai import ChatOpenAI\n",
        "\n",
        "# load the model\n",
        "chat = ChatOpenAI(model_name=\"gpt-4o-mini\", temperature=0)"
      ],
      "metadata": {
        "id": "nizvD9xAS2Ir"
      },
      "execution_count": 14,
      "outputs": []
    },
    {
      "cell_type": "markdown",
      "source": [
        "As we loaded the model and set the temperature to 0. We’d use the `chat()` instance to generate a summary by passing a single `HumanMessage` object containing the formatted prompt. The AI model processes this prompt and returns a concise summary:"
      ],
      "metadata": {
        "id": "lMBSLK3XTDJu"
      }
    },
    {
      "cell_type": "code",
      "source": [
        "summary = chat.invoke(messages)\n",
        "print(summary.content)"
      ],
      "metadata": {
        "colab": {
          "base_uri": "https://localhost:8080/"
        },
        "id": "3tHAGPrWTJOD",
        "outputId": "320ee90f-d5b1-4ef9-964d-ac6c5b7895be"
      },
      "execution_count": 16,
      "outputs": [
        {
          "output_type": "stream",
          "name": "stdout",
          "text": [
            "Former President Jimmy Carter, the 39th president of the United States, passed away at the age of 100 in his hometown of Plains, Georgia, after spending 22 months in hospice care. Known for his humble beginnings as a peanut farmer and his presidency during a tumultuous period marked by the Watergate scandal and the Vietnam War, Carter's legacy extends far beyond his single term in office. He is remembered for his humanitarian efforts, including his work with The Carter Center, which he founded in 1982 to promote peace, democracy, and public health globally.\n",
            "\n",
            "Carter's presidency was characterized by significant achievements, such as the Camp David Accords, which brokered peace between Egypt and Israel, and initiatives aimed at human rights and environmental protection. However, his administration faced challenges, including economic turmoil, high inflation, and the Iran hostage crisis, which ultimately led to his defeat in the 1980 election.\n",
            "\n",
            "Post-presidency, Carter became a prominent global humanitarian, earning the Nobel Peace Prize in 2002 for his efforts in promoting peace and democracy. He continued to engage in various humanitarian projects, including building homes with Habitat for Humanity and working to eradicate diseases.\n",
            "\n",
            "President Joe Biden and others have expressed their condolences, highlighting Carter's extraordinary contributions as a leader and humanitarian. A state funeral is scheduled for January 9, which has been declared a National Day of Mourning. Carter's life is celebrated as one of purpose, humility, and dedication to making a difference in the world.\n"
          ]
        }
      ]
    },
    {
      "cell_type": "markdown",
      "source": [
        "If we want a bulleted list, we can modify a prompt and get the result."
      ],
      "metadata": {
        "id": "fvwA6JfCUJyo"
      }
    },
    {
      "cell_type": "code",
      "source": [
        "# prepare template for prompt\n",
        "template = \"\"\"You are an advanced AI assistant that summarizes online articles into bulleted lists.\n",
        "\n",
        "Here's the article you need to summarize.\n",
        "\n",
        "==================\n",
        "Title: {article_title}\n",
        "\n",
        "{article_text}\n",
        "==================\n",
        "\n",
        "Now, provide a summarized version of the article in a bulleted list format.\n",
        "\"\"\"\n",
        "\n",
        "# format prompt\n",
        "prompt = template.format(article_title=article.title, article_text=article.text)\n",
        "\n",
        "# generate summary\n",
        "summary = chat.invoke([HumanMessage(content=prompt)])\n",
        "print(summary.content)"
      ],
      "metadata": {
        "colab": {
          "base_uri": "https://localhost:8080/"
        },
        "id": "HDtS-X3xUKyV",
        "outputId": "f87b3f54-5b62-468a-c154-69b28ccbd31d"
      },
      "execution_count": 17,
      "outputs": [
        {
          "output_type": "stream",
          "name": "stdout",
          "text": [
            "- **Jimmy Carter's Death**: Former President Jimmy Carter passed away at the age of 100 on Sunday in Plains, Georgia, after 22 months in hospice care.\n",
            "- **Legacy**: Carter, the 39th U.S. president, was known for his humanitarian work post-presidency, winning the Nobel Peace Prize and establishing The Carter Center.\n",
            "- **Family and Reactions**: He died peacefully surrounded by family. President Joe Biden mourned his loss, highlighting Carter's contributions to global health, peace, and human rights.\n",
            "- **State Funeral**: Biden announced a state funeral for Carter on January 9, 2024, and declared it a National Day of Mourning, with flags at half-staff for 30 days.\n",
            "- **Presidency Overview**: Carter's presidency (1977-1981) was marked by significant challenges, including the Iran hostage crisis and economic issues, leading to his defeat by Ronald Reagan.\n",
            "- **Key Achievements**: Notable accomplishments included the Camp David Accords, deregulation of industries, and a focus on human rights in foreign policy.\n",
            "- **Post-Presidency Work**: After leaving office, Carter became a global humanitarian, focusing on democracy, public health, and human rights through The Carter Center.\n",
            "- **Personal Reflections**: Carter often spoke about his faith and commitment to making a difference, emphasizing the importance of purpose and humility in life.\n",
            "- **Historical Perspective**: Carter's presidency is often viewed more favorably in retrospect, with historians recognizing his contributions and the challenges he faced.\n",
            "- **Early Life**: Born on October 1, 1924, in Plains, Georgia, Carter's upbringing and early career in the Navy shaped his later political path.\n",
            "- **Political Career**: He began his political career as a state senator and governor of Georgia before winning the presidency as a moderate Democrat.\n",
            "- **Cultural Impact**: Carter's informal style and approach to governance were both praised and criticized, and he was known for his commitment to civil rights and environmental issues.\n"
          ]
        }
      ]
    },
    {
      "cell_type": "markdown",
      "source": [
        "If you want to get the summary in French, you can instruct the model to generate the summary in French language. However, please note that GPT-4's main training language is English and while it has a multilingual capability, the quality may vary for languages other than English. Here's how you can modify the prompt."
      ],
      "metadata": {
        "id": "rGTz5qydUf_Z"
      }
    },
    {
      "cell_type": "code",
      "source": [
        "# prepare template for prompt\n",
        "template = \"\"\"You are an advanced AI assistant that summarizes online articles into bulleted lists in French.\n",
        "\n",
        "Here's the article you need to summarize.\n",
        "\n",
        "==================\n",
        "Title: {article_title}\n",
        "\n",
        "{article_text}\n",
        "==================\n",
        "\n",
        "Now, provide a summarized version of the article in a bulleted list format, in French.\n",
        "\"\"\"\n",
        "\n",
        "# format prompt\n",
        "prompt = template.format(article_title=article.title, article_text=article.text)\n",
        "\n",
        "# generate summary\n",
        "summary = chat.invoke([HumanMessage(content=prompt)])\n",
        "print(summary.content)"
      ],
      "metadata": {
        "colab": {
          "base_uri": "https://localhost:8080/"
        },
        "id": "hiJTjT0EUhRS",
        "outputId": "66c4dd05-4391-4c8e-baa7-8127d73e6ac8"
      },
      "execution_count": 18,
      "outputs": [
        {
          "output_type": "stream",
          "name": "stdout",
          "text": [
            "- **Décès de Jimmy Carter** : L'ancien président américain Jimmy Carter est décédé à l'âge de 100 ans, après avoir passé 22 mois en soins palliatifs à son domicile à Plains, en Géorgie.\n",
            "- **Réactions mondiales** : Le président Joe Biden a exprimé sa tristesse, qualifiant Carter d'« extraordinaire leader, homme d'État et humanitaire ».\n",
            "- **Héritage humanitaire** : Après sa présidence, Carter a redéfini sa vie en tant qu'humanitaire mondial, travaillant pour l'éradication des maladies, la paix, et les droits civils.\n",
            "- **Carrière politique** : Carter, un démocrate modéré, a été élu président en 1976, promettant de ne pas tromper le peuple américain après le scandale du Watergate.\n",
            "- **Réalisations en tant que président** : Il est connu pour avoir négocié un accord de paix au Moyen-Orient en 1978 entre l'Égypte et Israël, mais a également fait face à des défis économiques et à la crise des otages en Iran.\n",
            "- **Échec électoral** : Sa présidence a été marquée par une inflation élevée et une crise énergétique, conduisant à sa défaite écrasante face à Ronald Reagan en 1980.\n",
            "- **Travail post-présidence** : En 1982, il a fondé le Carter Center, se consacrant à la paix, à la santé publique et aux droits de l'homme à l'échelle internationale.\n",
            "- **Prix Nobel de la paix** : En 2002, il a reçu le prix Nobel de la paix pour ses efforts inlassables en faveur de solutions pacifiques aux conflits internationaux.\n",
            "- **Vie personnelle** : Carter est né le 1er octobre 1924 et a épousé Rosalynn Smith, avec qui il a partagé une vie de service public et d'engagement humanitaire.\n",
            "- **Réflexions sur sa vie** : Carter a déclaré avoir eu une vie merveilleuse, remplie d'amis et d'expériences enrichissantes, et a exprimé sa satisfaction face à son héritage.\n"
          ]
        }
      ]
    },
    {
      "cell_type": "markdown",
      "source": [],
      "metadata": {
        "id": "iKUf53PCUZNX"
      }
    }
  ]
}